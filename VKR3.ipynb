{
 "cells": [
  {
   "cell_type": "markdown",
   "id": "33b3ea99",
   "metadata": {},
   "source": [
    "# Нейронная сеть, которая будет рекомендовать соотношение матрица-наполнитель. "
   ]
  },
  {
   "cell_type": "code",
   "execution_count": 66,
   "id": "fbe802a1",
   "metadata": {},
   "outputs": [],
   "source": [
    "import numpy as np\n",
    "import pandas as pd\n",
    "from sklearn.model_selection import train_test_split\n",
    "from sklearn.preprocessing import StandardScaler\n",
    "from keras.models import Sequential\n",
    "from keras.layers import Dense, Dropout\n",
    "from keras.callbacks import EarlyStopping\n",
    "from sklearn.preprocessing import MinMaxScaler\n",
    "\n"
   ]
  },
  {
   "cell_type": "code",
   "execution_count": 67,
   "id": "c99c9fe1",
   "metadata": {},
   "outputs": [],
   "source": [
    "# Загрузка данных\n",
    "df = pd.read_csv('VKR.csv')"
   ]
  },
  {
   "cell_type": "code",
   "execution_count": 68,
   "id": "c4f9a629",
   "metadata": {},
   "outputs": [],
   "source": [
    "X = df.drop(['Соотношение матрица-наполнитель'], axis=1)\n",
    "y = df[['Соотношение матрица-наполнитель']]\n",
    "\n",
    "X_train, X_test, y_train, y_test = train_test_split(X, y, test_size=0.3, random_state=1)"
   ]
  },
  {
   "cell_type": "code",
   "execution_count": 69,
   "id": "5537eb08",
   "metadata": {},
   "outputs": [],
   "source": [
    "# Создание объекта MinMaxScaler\n",
    "scaler = MinMaxScaler()\n",
    "# Масштабирование целевой переменной\n",
    "y_train_scaled = scaler.fit_transform(y_train.values.reshape(-1, 1))\n",
    "y_test_scaled = scaler.transform(y_test.values.reshape(-1, 1))"
   ]
  },
  {
   "cell_type": "code",
   "execution_count": 70,
   "id": "d0021925",
   "metadata": {},
   "outputs": [],
   "source": [
    "# Создание модели нейронной сети\n",
    "model = Sequential()"
   ]
  },
  {
   "cell_type": "code",
   "execution_count": 71,
   "id": "f918fc8f",
   "metadata": {},
   "outputs": [],
   "source": [
    "# Добавление слоев\n",
    "model.add(Dense(64, activation='relu', input_shape=(X_train.shape[1],)))\n",
    "model.add(Dropout(0.2))\n",
    "model.add(Dense(32, activation='relu'))\n",
    "model.add(Dropout(0.2))\n",
    "model.add(Dense(16, activation='relu'))\n",
    "model.add(Dropout(0.2))\n",
    "model.add(Dense(1, activation='linear'))"
   ]
  },
  {
   "cell_type": "code",
   "execution_count": 72,
   "id": "bbe66d51",
   "metadata": {},
   "outputs": [
    {
     "name": "stdout",
     "output_type": "stream",
     "text": [
      "Model: \"sequential_8\"\n",
      "_________________________________________________________________\n",
      " Layer (type)                Output Shape              Param #   \n",
      "=================================================================\n",
      " dense_28 (Dense)            (None, 64)                832       \n",
      "                                                                 \n",
      " dropout_21 (Dropout)        (None, 64)                0         \n",
      "                                                                 \n",
      " dense_29 (Dense)            (None, 32)                2080      \n",
      "                                                                 \n",
      " dropout_22 (Dropout)        (None, 32)                0         \n",
      "                                                                 \n",
      " dense_30 (Dense)            (None, 16)                528       \n",
      "                                                                 \n",
      " dropout_23 (Dropout)        (None, 16)                0         \n",
      "                                                                 \n",
      " dense_31 (Dense)            (None, 1)                 17        \n",
      "                                                                 \n",
      "=================================================================\n",
      "Total params: 3,457\n",
      "Trainable params: 3,457\n",
      "Non-trainable params: 0\n",
      "_________________________________________________________________\n"
     ]
    }
   ],
   "source": [
    "model.summary()"
   ]
  },
  {
   "cell_type": "code",
   "execution_count": 73,
   "id": "620bdb08",
   "metadata": {},
   "outputs": [],
   "source": [
    "# Компиляция модели\n",
    "model.compile(loss='mse', optimizer='adam')"
   ]
  },
  {
   "cell_type": "code",
   "execution_count": 74,
   "id": "4b278034",
   "metadata": {},
   "outputs": [
    {
     "name": "stdout",
     "output_type": "stream",
     "text": [
      "Epoch 1/100\n",
      "18/18 [==============================] - 1s 23ms/step - loss: 0.0795 - val_loss: 0.0344\n",
      "Epoch 2/100\n",
      "18/18 [==============================] - 0s 6ms/step - loss: 0.0588 - val_loss: 0.0362\n",
      "Epoch 3/100\n",
      "18/18 [==============================] - 0s 7ms/step - loss: 0.0527 - val_loss: 0.0396\n",
      "Epoch 4/100\n",
      "18/18 [==============================] - 0s 7ms/step - loss: 0.0496 - val_loss: 0.0369\n",
      "Epoch 5/100\n",
      "18/18 [==============================] - 0s 7ms/step - loss: 0.0459 - val_loss: 0.0358\n",
      "Epoch 6/100\n",
      "18/18 [==============================] - 0s 7ms/step - loss: 0.0464 - val_loss: 0.0353\n",
      "Epoch 7/100\n",
      "18/18 [==============================] - 0s 8ms/step - loss: 0.0434 - val_loss: 0.0364\n",
      "Epoch 8/100\n",
      "18/18 [==============================] - 0s 7ms/step - loss: 0.0418 - val_loss: 0.0348\n",
      "Epoch 9/100\n",
      "18/18 [==============================] - 0s 8ms/step - loss: 0.0414 - val_loss: 0.0313\n",
      "Epoch 10/100\n",
      "18/18 [==============================] - 0s 8ms/step - loss: 0.0409 - val_loss: 0.0337\n",
      "Epoch 11/100\n",
      "18/18 [==============================] - 0s 8ms/step - loss: 0.0386 - val_loss: 0.0341\n",
      "Epoch 12/100\n",
      "18/18 [==============================] - 0s 8ms/step - loss: 0.0357 - val_loss: 0.0324\n",
      "Epoch 13/100\n",
      "18/18 [==============================] - 0s 7ms/step - loss: 0.0408 - val_loss: 0.0349\n",
      "Epoch 14/100\n",
      "18/18 [==============================] - 0s 8ms/step - loss: 0.0392 - val_loss: 0.0323\n",
      "Epoch 15/100\n",
      "18/18 [==============================] - 0s 8ms/step - loss: 0.0364 - val_loss: 0.0319\n",
      "Epoch 16/100\n",
      "18/18 [==============================] - 0s 7ms/step - loss: 0.0392 - val_loss: 0.0331\n",
      "Epoch 17/100\n",
      "18/18 [==============================] - 0s 7ms/step - loss: 0.0362 - val_loss: 0.0313\n",
      "Epoch 18/100\n",
      "18/18 [==============================] - 0s 7ms/step - loss: 0.0356 - val_loss: 0.0316\n",
      "Epoch 19/100\n",
      "18/18 [==============================] - 0s 7ms/step - loss: 0.0375 - val_loss: 0.0312\n",
      "Epoch 20/100\n",
      "18/18 [==============================] - 0s 7ms/step - loss: 0.0361 - val_loss: 0.0322\n",
      "Epoch 21/100\n",
      "18/18 [==============================] - 0s 7ms/step - loss: 0.0340 - val_loss: 0.0303\n",
      "Epoch 22/100\n",
      "18/18 [==============================] - 0s 7ms/step - loss: 0.0361 - val_loss: 0.0327\n",
      "Epoch 23/100\n",
      "18/18 [==============================] - 0s 8ms/step - loss: 0.0353 - val_loss: 0.0308\n",
      "Epoch 24/100\n",
      "18/18 [==============================] - 0s 8ms/step - loss: 0.0353 - val_loss: 0.0306\n",
      "Epoch 25/100\n",
      "18/18 [==============================] - 0s 8ms/step - loss: 0.0341 - val_loss: 0.0304\n",
      "Epoch 26/100\n",
      "18/18 [==============================] - 0s 7ms/step - loss: 0.0348 - val_loss: 0.0308\n",
      "Epoch 27/100\n",
      "18/18 [==============================] - 0s 8ms/step - loss: 0.0354 - val_loss: 0.0308\n",
      "Epoch 28/100\n",
      "18/18 [==============================] - 0s 8ms/step - loss: 0.0350 - val_loss: 0.0300\n",
      "Epoch 29/100\n",
      "18/18 [==============================] - 0s 7ms/step - loss: 0.0360 - val_loss: 0.0303\n",
      "Epoch 30/100\n",
      "18/18 [==============================] - 0s 7ms/step - loss: 0.0340 - val_loss: 0.0301\n",
      "Epoch 31/100\n",
      "18/18 [==============================] - 0s 8ms/step - loss: 0.0337 - val_loss: 0.0298\n",
      "Epoch 32/100\n",
      "18/18 [==============================] - 0s 7ms/step - loss: 0.0331 - val_loss: 0.0295\n",
      "Epoch 33/100\n",
      "18/18 [==============================] - 0s 7ms/step - loss: 0.0347 - val_loss: 0.0296\n",
      "Epoch 34/100\n",
      "18/18 [==============================] - 0s 7ms/step - loss: 0.0342 - val_loss: 0.0298\n",
      "Epoch 35/100\n",
      "18/18 [==============================] - 0s 7ms/step - loss: 0.0332 - val_loss: 0.0293\n",
      "Epoch 36/100\n",
      "18/18 [==============================] - 0s 7ms/step - loss: 0.0340 - val_loss: 0.0297\n",
      "Epoch 37/100\n",
      "18/18 [==============================] - 0s 7ms/step - loss: 0.0343 - val_loss: 0.0300\n",
      "Epoch 38/100\n",
      "18/18 [==============================] - 0s 12ms/step - loss: 0.0337 - val_loss: 0.0295\n",
      "Epoch 39/100\n",
      "18/18 [==============================] - 0s 15ms/step - loss: 0.0332 - val_loss: 0.0301\n",
      "Epoch 40/100\n",
      "18/18 [==============================] - 0s 8ms/step - loss: 0.0330 - val_loss: 0.0300\n",
      "Epoch 41/100\n",
      "18/18 [==============================] - 0s 8ms/step - loss: 0.0334 - val_loss: 0.0301\n",
      "Epoch 42/100\n",
      "18/18 [==============================] - 0s 8ms/step - loss: 0.0323 - val_loss: 0.0300\n",
      "Epoch 43/100\n",
      "18/18 [==============================] - 0s 8ms/step - loss: 0.0312 - val_loss: 0.0299\n",
      "Epoch 44/100\n",
      "18/18 [==============================] - 0s 9ms/step - loss: 0.0316 - val_loss: 0.0298\n",
      "Epoch 45/100\n",
      "18/18 [==============================] - 0s 9ms/step - loss: 0.0334 - val_loss: 0.0300\n",
      "Epoch 45: early stopping\n"
     ]
    }
   ],
   "source": [
    "# Обучение модели\n",
    "early_stop = EarlyStopping(monitor='val_loss', patience=10, verbose=1)\n",
    "history = model.fit(X_train_scaled, y_train, epochs=100, validation_split=0.2, callbacks=[early_stop])"
   ]
  },
  {
   "cell_type": "code",
   "execution_count": 75,
   "id": "f556e143",
   "metadata": {},
   "outputs": [
    {
     "name": "stdout",
     "output_type": "stream",
     "text": [
      "10/10 [==============================] - 0s 3ms/step\n",
      "Средняя квадратичная ошибка на тестовых данных: 0.0311\n"
     ]
    },
    {
     "name": "stderr",
     "output_type": "stream",
     "text": [
      "C:\\Users\\ASUS\\anaconda3\\lib\\site-packages\\numpy\\core\\fromnumeric.py:3438: FutureWarning: In a future version, DataFrame.mean(axis=None) will return a scalar mean over the entire DataFrame. To retain the old behavior, use 'frame.mean(axis=0)' or just 'frame.mean()'\n",
      "  return mean(axis=axis, dtype=dtype, out=out, **kwargs)\n"
     ]
    }
   ],
   "source": [
    "# Оценка качества модели на тестовых данных\n",
    "y_pred = model.predict(X_test_scaled)\n",
    "mse = np.mean((y_pred - y_test)**2)\n",
    "print(f\"Средняя квадратичная ошибка на тестовых данных: {mse.item():.4f}\")\n"
   ]
  },
  {
   "cell_type": "code",
   "execution_count": 77,
   "id": "df1d4b89",
   "metadata": {
    "scrolled": true
   },
   "outputs": [],
   "source": [
    "# Обратное масштабирование предсказанных значений\n",
    "y_pred_unscaled = scaler.inverse_transform(y_pred)"
   ]
  },
  {
   "cell_type": "markdown",
   "id": "a5b5f523",
   "metadata": {},
   "source": [
    "Средняя квадратичная ошибка (MSE) на тестовых данных составляет 0.0311, что означает, что наша модель хорошо справляется с прогнозированием соотношения матрица-наполнитель на основе имеющихся данных. Однако, для более точной оценки качества модели, может потребоваться использование других метрик и методов оценки."
   ]
  },
  {
   "cell_type": "code",
   "execution_count": 78,
   "id": "5783787e",
   "metadata": {},
   "outputs": [],
   "source": [
    "model.save('my_model.h5')\n"
   ]
  }
 ],
 "metadata": {
  "kernelspec": {
   "display_name": "Python 3 (ipykernel)",
   "language": "python",
   "name": "python3"
  },
  "language_info": {
   "codemirror_mode": {
    "name": "ipython",
    "version": 3
   },
   "file_extension": ".py",
   "mimetype": "text/x-python",
   "name": "python",
   "nbconvert_exporter": "python",
   "pygments_lexer": "ipython3",
   "version": "3.9.13"
  }
 },
 "nbformat": 4,
 "nbformat_minor": 5
}
