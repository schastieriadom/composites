{
 "cells": [
  {
   "cell_type": "markdown",
   "id": "579d8e04",
   "metadata": {},
   "source": [
    "# Разработка и обучение моделей для прогноза модуля упругости при растяжении и прочности при растяжении"
   ]
  },
  {
   "cell_type": "code",
   "execution_count": 25,
   "id": "7f905078",
   "metadata": {},
   "outputs": [
    {
     "name": "stdout",
     "output_type": "stream",
     "text": [
      "Requirement already satisfied: tabulate in c:\\users\\asus\\anaconda3\\lib\\site-packages (0.8.10)\n"
     ]
    }
   ],
   "source": [
    "# Импортируем необходимые библиотеки(сразу все)\n",
    "import numpy as np\n",
    "import pandas as pd\n",
    "import matplotlib.pyplot as plt\n",
    "import seaborn as sns\n",
    "from sklearn.preprocessing import MinMaxScaler\n",
    "from sklearn.preprocessing import OrdinalEncoder\n",
    "from sklearn.preprocessing import StandardScaler\n",
    "from sklearn.compose import ColumnTransformer\n",
    "from sklearn.model_selection import train_test_split\n",
    "from sklearn.model_selection import KFold, RandomizedSearchCV\n",
    "from sklearn.model_selection import cross_val_score, cross_validate\n",
    "from sklearn.model_selection import GridSearchCV\n",
    "from sklearn.base import BaseEstimator\n",
    "from sklearn.dummy import DummyRegressor\n",
    "from sklearn.linear_model import LinearRegression, SGDRegressor\n",
    "from sklearn.linear_model import Ridge\n",
    "from sklearn.linear_model import Lasso\n",
    "from sklearn.neural_network import MLPRegressor\n",
    "from sklearn.svm import SVR\n",
    "from sklearn.neighbors import KNeighborsRegressor\n",
    "from sklearn.tree import DecisionTreeRegressor\n",
    "from sklearn.ensemble import RandomForestRegressor\n",
    "from sklearn.ensemble import GradientBoostingRegressor\n",
    "from sklearn import metrics\n",
    "from sklearn.metrics import r2_score, mean_squared_error\n",
    "import pickle\n",
    "from tabulate import tabulate\n",
    "!pip install tabulate\n"
   ]
  },
  {
   "cell_type": "code",
   "execution_count": 2,
   "id": "0334be1f",
   "metadata": {},
   "outputs": [],
   "source": [
    "# Загрузка данных\n",
    "df = pd.read_csv('VKR.csv')"
   ]
  },
  {
   "cell_type": "code",
   "execution_count": 3,
   "id": "5571b2cb",
   "metadata": {},
   "outputs": [],
   "source": [
    "# Разделение на признаки и целевые переменные\n",
    "x_pr = df.drop(['Прочность при растяжении, МПа'], axis=1)\n",
    "y_pr = df['Прочность при растяжении, МПа']\n",
    "x_mu = df.drop(['Модуль упругости при растяжении, ГПа'], axis=1)\n",
    "y_mu = df['Модуль упругости при растяжении, ГПа']\n"
   ]
  },
  {
   "cell_type": "code",
   "execution_count": 4,
   "id": "e600daac",
   "metadata": {},
   "outputs": [],
   "source": [
    "# Разделение на обучающую и тестовую выборки\n",
    "X_train_pr, X_test_pr, y_train_pr, y_test_pr = train_test_split(x_pr, y_pr, test_size=0.3, random_state=1)\n",
    "X_train_mu, X_test_mu, y_train_mu, y_test_mu = train_test_split(x_mu, y_mu, test_size=0.3, random_state=1)\n"
   ]
  },
  {
   "cell_type": "code",
   "execution_count": 5,
   "id": "d4290040",
   "metadata": {},
   "outputs": [],
   "source": [
    "# Списки для сохранения результатов\n",
    "r2_pr, mse_pr, r2_mu, mse_mu = [], [], [], []\n"
   ]
  },
  {
   "cell_type": "markdown",
   "id": "25168e7d",
   "metadata": {},
   "source": [
    "### Линейная регрессия"
   ]
  },
  {
   "cell_type": "code",
   "execution_count": 6,
   "id": "7d466784",
   "metadata": {},
   "outputs": [
    {
     "name": "stdout",
     "output_type": "stream",
     "text": [
      "Линейная регрессия:\n",
      "Прочность при растяжении - R2: -0.0325, MSE: 0.0329\n",
      "Модуль упругости при растяжении - R2: -0.0024, MSE: 0.0259\n"
     ]
    }
   ],
   "source": [
    "print(\"Линейная регрессия:\")\n",
    "lm = LinearRegression()\n",
    "lm.fit(X_train_pr, y_train_pr)\n",
    "y_pred_pr = lm.predict(X_test_pr)\n",
    "r2_pr.append(r2_score(y_test_pr, y_pred_pr))\n",
    "mse_pr.append(mean_squared_error(y_test_pr, y_pred_pr))\n",
    "\n",
    "lm = LinearRegression()\n",
    "lm.fit(X_train_mu, y_train_mu)\n",
    "y_pred_mu = lm.predict(X_test_mu)\n",
    "r2_mu.append(r2_score(y_test_mu, y_pred_mu))\n",
    "mse_mu.append(mean_squared_error(y_test_mu, y_pred_mu))\n",
    "print(\"Прочность при растяжении - R2: {:.4f}, MSE: {:.4f}\".format(r2_pr[-1], mse_pr[-1]))\n",
    "print(\"Модуль упругости при растяжении - R2: {:.4f}, MSE: {:.4f}\".format(r2_mu[-1], mse_mu[-1]))\n"
   ]
  },
  {
   "cell_type": "markdown",
   "id": "210fccd4",
   "metadata": {},
   "source": [
    "Значения R2 и MSE используются для оценки качества предсказаний модели. R2 (коэффициент детерминации) указывает на то, насколько хорошо модель подходит для описания данных и может принимать значения от 0 до 1, где 1 означает идеальное соответствие модели данным. Значение R2 отрицательное означает, что модель не подходит для описания данных.\n",
    "\n",
    "MSE (среднеквадратичная ошибка) показывает, насколько сильно отличаются предсказанные значения от фактических значений. Чем меньше значение MSE, тем лучше модель.\n",
    "\n",
    "В данном случае значения R2 и MSE для обеих моделей (прочности при растяжении и модуля упругости) находятся в неудовлетворительном диапазоне, что говорит о том, что линейная регрессия не подходит для описания этих данных."
   ]
  },
  {
   "cell_type": "markdown",
   "id": "02d5bffe",
   "metadata": {},
   "source": [
    "### Lasso"
   ]
  },
  {
   "cell_type": "code",
   "execution_count": 7,
   "id": "048fdc65",
   "metadata": {},
   "outputs": [
    {
     "name": "stdout",
     "output_type": "stream",
     "text": [
      "Lasso:\n",
      "Прочность при растяжении - Lasso\n",
      "Лучший гиперпараметр: {'alpha': 0.01}\n",
      "R2: -0.0021, MSE: 0.0319\n",
      "Модуль упругости при растяжении - Lasso\n",
      "Лучший гиперпараметр: {'alpha': 0.01}\n",
      "R2: -0.0006, MSE: 0.0259\n"
     ]
    }
   ],
   "source": [
    "print(\"Lasso:\")\n",
    "lasso = Lasso()\n",
    "parameters = {'alpha': [0.01, 0.1, 1, 10]}\n",
    "lasso_cv = GridSearchCV(lasso, parameters,\n",
    "cv=10, scoring='neg_mean_squared_error')\n",
    "lasso_cv.fit(X_train_pr, y_train_pr)\n",
    "y_pred_pr = lasso_cv.predict(X_test_pr)\n",
    "r2_pr.append(r2_score(y_test_pr, y_pred_pr))\n",
    "mse_pr.append(mean_squared_error(y_test_pr, y_pred_pr))\n",
    "\n",
    "lasso_cv.fit(X_train_mu, y_train_mu)\n",
    "y_pred_mu = lasso_cv.predict(X_test_mu)\n",
    "r2_mu.append(r2_score(y_test_mu, y_pred_mu))\n",
    "mse_mu.append(mean_squared_error(y_test_mu, y_pred_mu))\n",
    "print(\"Прочность при растяжении - Lasso\")\n",
    "print(f\"Лучший гиперпараметр: {lasso_cv.best_params_}\")\n",
    "print(\"R2: {:.4f}, MSE: {:.4f}\".format(r2_pr[-1], mse_pr[-1]))\n",
    "print(\"Модуль упругости при растяжении - Lasso\")\n",
    "print(f\"Лучший гиперпараметр: {lasso_cv.best_params_}\")\n",
    "print(\"R2: {:.4f}, MSE: {:.4f}\".format(r2_mu[-1], mse_mu[-1]))"
   ]
  },
  {
   "cell_type": "markdown",
   "id": "2001987b",
   "metadata": {},
   "source": [
    "Lasso - это метод регрессии, который добавляет штраф на коэффициенты модели, чтобы уменьшить их влияние и избежать переобучения. В данном случае, на основе результатов вычислений, можно сделать вывод, что Lasso не привнес значительного улучшения в сравнении с линейной регрессией. Значения коэффициента детерминации R2 и среднеквадратической ошибки MSE примерно такие же или хуже, чем в случае линейной регрессии. Лучший гиперпараметр для обоих моделей - значение alpha равное 0.01."
   ]
  },
  {
   "cell_type": "markdown",
   "id": "5f7c8423",
   "metadata": {},
   "source": [
    "### k ближайших соседей"
   ]
  },
  {
   "cell_type": "code",
   "execution_count": 8,
   "id": "a3d8127d",
   "metadata": {},
   "outputs": [
    {
     "name": "stdout",
     "output_type": "stream",
     "text": [
      "Прочность при растяжении - k ближайших соседей\n",
      "Лучший гиперпараметр: {'n_neighbors': 30}\n",
      "R2: 0.0094, MSE: 0.0316\n",
      "Модуль упругости при растяжении - k ближайших соседей\n",
      "R2: -0.0093, MSE: 0.0261\n"
     ]
    }
   ],
   "source": [
    "knn = KNeighborsRegressor()\n",
    "parameters = {'n_neighbors': [5, 10, 20, 30]}\n",
    "knn_cv = GridSearchCV(knn, parameters,\n",
    "cv=10, scoring='neg_mean_squared_error')\n",
    "knn_cv.fit(X_train_pr, y_train_pr)\n",
    "y_pred_pr = knn_cv.predict(X_test_pr)\n",
    "r2_pr.append(r2_score(y_test_pr, y_pred_pr))\n",
    "mse_pr.append(mean_squared_error(y_test_pr, y_pred_pr))\n",
    "\n",
    "knn_cv.fit(X_train_mu, y_train_mu)\n",
    "y_pred_mu = knn_cv.predict(X_test_mu)\n",
    "r2_mu.append(r2_score(y_test_mu, y_pred_mu))\n",
    "mse_mu.append(mean_squared_error(y_test_mu, y_pred_mu))\n",
    "print(\"Прочность при растяжении - k ближайших соседей\")\n",
    "print(f\"Лучший гиперпараметр: {knn_cv.best_params_}\")\n",
    "print(\"R2: {:.4f}, MSE: {:.4f}\".format(r2_pr[-1], mse_pr[-1]))\n",
    "print(\"Модуль упругости при растяжении - k ближайших соседей\")\n",
    "print(\"R2: {:.4f}, MSE: {:.4f}\".format(r2_mu[-1], mse_mu[-1]))"
   ]
  },
  {
   "cell_type": "markdown",
   "id": "e8398f84",
   "metadata": {},
   "source": [
    "Для прочности при растяжении R2 равен 0.0094, что говорит о том, что модель K ближайших соседей дает небольшой положительный вклад в объяснение вариации в прочности при растяжении. MSE для этой модели равен 0.0316, что указывает на среднеквадратичную ошибку модели в прогнозировании прочности при растяжении.\n",
    "\n",
    "Для модуля упругости при растяжении R2 равен -0.0093, что говорит о том, что модель K ближайших соседей не способна объяснить вариацию в модуле упругости при растяжении. MSE для этой модели равен 0.0261, что указывает на среднеквадратичную ошибку модели в прогнозировании модуля упругости при растяжении.\n",
    "\n",
    "Таким образом, можно сделать вывод, что модель K ближайших соседей дает небольшой вклад в прогнозирование прочности при растяжении, но не является хорошей моделью для прогнозирования модуля упругости при растяжении."
   ]
  },
  {
   "cell_type": "markdown",
   "id": "20d782cf",
   "metadata": {},
   "source": [
    "### Решающее дерево"
   ]
  },
  {
   "cell_type": "code",
   "execution_count": 9,
   "id": "56c43bb7",
   "metadata": {},
   "outputs": [
    {
     "name": "stdout",
     "output_type": "stream",
     "text": [
      "Прочность при растяжении - решающее дерево\n",
      "Лучший гиперпараметр: {'max_depth': 5}\n",
      "R2: -0.2770, MSE: 0.0407\n",
      "Модуль упругости при растяжении - решающее дерево\n",
      "R2: -0.1028, MSE: 0.0285\n"
     ]
    }
   ],
   "source": [
    "tree = DecisionTreeRegressor(random_state=42)\n",
    "parameters = {'max_depth': [5, 10, 15, 20]}\n",
    "tree_cv = GridSearchCV(tree, parameters,\n",
    "cv=10, scoring='neg_mean_squared_error')\n",
    "tree_cv.fit(X_train_pr, y_train_pr)\n",
    "y_pred_pr = tree_cv.predict(X_test_pr)\n",
    "r2_pr.append(r2_score(y_test_pr, y_pred_pr))\n",
    "mse_pr.append(mean_squared_error(y_test_pr, y_pred_pr))\n",
    "\n",
    "tree_cv.fit(X_train_mu, y_train_mu)\n",
    "y_pred_mu = tree_cv.predict(X_test_mu)\n",
    "r2_mu.append(r2_score(y_test_mu, y_pred_mu))\n",
    "mse_mu.append(mean_squared_error(y_test_mu, y_pred_mu))\n",
    "print(\"Прочность при растяжении - решающее дерево\")\n",
    "print(f\"Лучший гиперпараметр: {tree_cv.best_params_}\")\n",
    "print(\"R2: {:.4f}, MSE: {:.4f}\".format(r2_pr[-1], mse_pr[-1]))\n",
    "print(\"Модуль упругости при растяжении - решающее дерево\")\n",
    "print(\"R2: {:.4f}, MSE: {:.4f}\".format(r2_mu[-1], mse_mu[-1]))"
   ]
  },
  {
   "cell_type": "markdown",
   "id": "e1ff6c88",
   "metadata": {},
   "source": [
    "Модель решающего дерева также имеет отрицательный коэффициент детерминации и высокую среднеквадратическую ошибку, что указывает на низкую точность модели."
   ]
  },
  {
   "cell_type": "markdown",
   "id": "9a2e70fb",
   "metadata": {},
   "source": [
    "### Стохастический градиентный спуск"
   ]
  },
  {
   "cell_type": "code",
   "execution_count": 10,
   "id": "3cff6c9d",
   "metadata": {},
   "outputs": [
    {
     "name": "stdout",
     "output_type": "stream",
     "text": [
      "Прочность при растяжении - Стохастический градиентный спуск\n",
      "Лучший гиперпараметр: {'max_iter': 1000, 'penalty': 'l1'}\n",
      "R2: -0.0503, MSE: 0.0335\n",
      "Модуль упругости при растяжении - Стохастический градиентный спуск\n",
      "Лучший гиперпараметр: {'max_iter': 1000, 'penalty': 'l1'}\n",
      "R2: -0.0302, MSE: 0.0266\n"
     ]
    }
   ],
   "source": [
    "sgd = SGDRegressor(random_state=42)\n",
    "parameters = {'max_iter': [1000, 5000, 10000],\n",
    "'penalty': ['l1', 'l2']}\n",
    "sgd_cv = GridSearchCV(sgd, parameters,\n",
    "cv=10, scoring='neg_mean_squared_error')\n",
    "sgd_cv.fit(X_train_pr, y_train_pr)\n",
    "y_pred_pr = sgd_cv.predict(X_test_pr)\n",
    "r2_pr.append(r2_score(y_test_pr, y_pred_pr))\n",
    "mse_pr.append(mean_squared_error(y_test_pr, y_pred_pr))\n",
    "\n",
    "sgd_cv.fit(X_train_mu, y_train_mu)\n",
    "y_pred_mu = sgd_cv.predict(X_test_mu)\n",
    "r2_mu.append(r2_score(y_test_mu, y_pred_mu))\n",
    "mse_mu.append(mean_squared_error(y_test_mu, y_pred_mu))\n",
    "print(\"Прочность при растяжении - Стохастический градиентный спуск\")\n",
    "print(f\"Лучший гиперпараметр: {sgd_cv.best_params_}\")\n",
    "print(f\"R2: {r2_pr[-1]:.4f}, MSE: {mse_pr[-1]:.4f}\")\n",
    "print(f\"Модуль упругости при растяжении - Стохастический градиентный спуск\")\n",
    "print(f\"Лучший гиперпараметр: {sgd_cv.best_params_}\")\n",
    "print(f\"R2: {r2_mu[-1]:.4f}, MSE: {mse_mu[-1]:.4f}\")"
   ]
  },
  {
   "cell_type": "markdown",
   "id": "7bd498b4",
   "metadata": {},
   "source": [
    "Из результатов можно сделать вывод, что ни одна из моделей не показала хороших результатов при предсказании прочности при растяжении и модуля упругости при растяжении. В частности, все значения коэффициента детерминации (R2) отрицательны, что указывает на то, что модели не могут объяснить дисперсию данных. Также значения среднеквадратической ошибки (MSE) высоки, что говорит о том, что модели не могут достаточно точно предсказывать значения целевых переменных."
   ]
  },
  {
   "cell_type": "markdown",
   "id": "cd31d596",
   "metadata": {},
   "source": [
    "### Метод опорных векторов"
   ]
  },
  {
   "cell_type": "code",
   "execution_count": 11,
   "id": "bbdf8a23",
   "metadata": {},
   "outputs": [
    {
     "name": "stdout",
     "output_type": "stream",
     "text": [
      "Прочность при растяжении - Метод опорных векторов\n",
      "Лучший гиперпараметр: {'C': 0.1, 'kernel': 'linear'}\n",
      "R^2 на тестовом наборе: -0.03207455479267929\n",
      "Среднеквадратическая ошибка на тестовом наборе: 0.03288549088051893\n",
      "Упругость - Метод опорных векторов\n",
      "Лучший гиперпараметр: {'C': 0.1, 'kernel': 'linear'}\n",
      "R^2 на тестовом наборе: -0.0024923920654420506\n",
      "Среднеквадратическая ошибка на тестовом наборе: 0.025910690721890742\n"
     ]
    }
   ],
   "source": [
    "svm = SVR()\n",
    "parameters = {'kernel': ['linear', 'rbf', 'poly'],\n",
    "'C': [0.1, 1, 10]}\n",
    "svm_cv = GridSearchCV(svm, parameters,\n",
    "cv=10, scoring='neg_mean_squared_error')\n",
    "svm_cv.fit(X_train_pr, y_train_pr)\n",
    "y_pred_pr = svm_cv.predict(X_test_pr)\n",
    "r2_pr.append(r2_score(y_test_pr, y_pred_pr))\n",
    "mse_pr.append(mean_squared_error(y_test_pr, y_pred_pr))\n",
    "\n",
    "svm_cv.fit(X_train_mu, y_train_mu)\n",
    "y_pred_mu = svm_cv.predict(X_test_mu)\n",
    "r2_mu.append(r2_score(y_test_mu, y_pred_mu))\n",
    "mse_mu.append(mean_squared_error(y_test_mu, y_pred_mu))\n",
    "print(\"Прочность при растяжении - Метод опорных векторов\")\n",
    "print(f\"Лучший гиперпараметр: {svm_cv.best_params_}\")\n",
    "print(f\"R^2 на тестовом наборе: {r2_score(y_test_pr, y_pred_pr)}\")\n",
    "print(f\"Среднеквадратическая ошибка на тестовом наборе: {mean_squared_error(y_test_pr, y_pred_pr)}\")\n",
    "\n",
    "print(\"Упругость - Метод опорных векторов\")\n",
    "print(f\"Лучший гиперпараметр: {svm_cv.best_params_}\")\n",
    "print(f\"R^2 на тестовом наборе: {r2_score(y_test_mu, y_pred_mu)}\")\n",
    "print(f\"Среднеквадратическая ошибка на тестовом наборе: {mean_squared_error(y_test_mu, y_pred_mu)}\")"
   ]
  },
  {
   "cell_type": "raw",
   "id": "ede0f009",
   "metadata": {},
   "source": [
    "#Хотела я попробовать еще и эту модель многослойного перцептрона, но выполнение повисло на час, а потом начало выдавать предупреждение\n",
    "\"\"\"mlp = MLPRegressor(random_state=42)\n",
    "parameters = {'hidden_layer_sizes': [(50,50,50), (50,100,50), (100,)],\n",
    "'activation': ['tanh', 'relu'],\n",
    "'solver': ['sgd', 'adam'],\n",
    "'alpha': [0.0001, 0.05],\n",
    "'learning_rate': ['constant','adaptive'],\n",
    "'learning_rate_init': [0.001, 0.01]}\n",
    "mlp_cv = GridSearchCV(mlp, parameters,\n",
    "cv=10, scoring='neg_mean_squared_error')\n",
    "mlp_cv.fit(X_train_pr, y_train_pr)\n",
    "y_pred_pr = mlp_cv.predict(X_test_pr)\n",
    "r2_pr.append(r2_score(y_test_pr, y_pred_pr))\n",
    "mse_pr.append(mean_squared_error(y_test_pr, y_pred_pr))\n",
    "\n",
    "mlp_cv.fit(X_train_mu, y_train_mu)\n",
    "y_pred_mu = mlp_cv.predict(X_test_mu)\n",
    "r2_mu.append(r2_score(y_test_mu, y_pred_mu))\n",
    "mse_mu.append(mean_squared_error(y_test_mu, y_pred_mu))\n",
    "print(\"Прочность при растяжении - Многослойный перцептрон\")\n",
    "print(f\"Лучший гиперпараметр: {mlp_cv.best_params_}\")\n",
    "print(f\"R^2 на тестовом наборе: {r2_score(y_test_pr, y_pred_pr)}\")\n",
    "print(f\"Среднеквадратическая ошибка на тестовом наборе: {mean_squared_error(y_test_pr, y_pred_pr)}\")\n",
    "\n",
    "print(\"Упругость - Многослойный перцептрон\")\n",
    "print(f\"Лучший гиперпараметр: {mlp_cv.best_params_}\")\n",
    "print(f\"R^2 на тестовом наборе: {r2_score(y_test_mu, y_pred_mu)}\")\n",
    "print(f\"Среднеквадратическая ошибка на тестовом наборе: {mean_squared_error(y_test_mu, y_pred_mu)}\")\"\"\""
   ]
  },
  {
   "cell_type": "markdown",
   "id": "7492f285",
   "metadata": {},
   "source": [
    "### Метод случайного леса"
   ]
  },
  {
   "cell_type": "code",
   "execution_count": 14,
   "id": "cef79beb",
   "metadata": {},
   "outputs": [
    {
     "name": "stdout",
     "output_type": "stream",
     "text": [
      "Прочность при растяжении - Случайный лес\n",
      "Лучший гиперпараметр: {'max_depth': 10, 'max_features': 'sqrt', 'n_estimators': 1000}\n",
      "R^2 на тестовом наборе: -0.028642917893767272\n",
      "Среднеквадратическая ошибка на тестовом наборе: 0.03277614697370487\n",
      "Упругость - Случайный лес\n",
      "Лучший гиперпараметр: {'max_depth': 10, 'max_features': 'sqrt', 'n_estimators': 1000}\n",
      "R^2 на тестовом наборе: 0.0004623552863239899\n",
      "Среднеквадратическая ошибка на тестовом наборе: 0.0258343215190929\n"
     ]
    }
   ],
   "source": [
    "rf = RandomForestRegressor()\n",
    "\n",
    "parameters = {'n_estimators': [100, 500, 1000],\n",
    "              'max_depth': [None, 10, 50],\n",
    "              'max_features': ['auto', 'sqrt']}\n",
    "rf_cv = GridSearchCV(rf, parameters, cv=10, scoring='neg_mean_squared_error')\n",
    "rf_cv.fit(X_train_pr, y_train_pr)\n",
    "y_pred_pr = rf_cv.predict(X_test_pr)\n",
    "r2_pr.append(r2_score(y_test_pr, y_pred_pr))\n",
    "mse_pr.append(mean_squared_error(y_test_pr, y_pred_pr))\n",
    "\n",
    "rf_cv.fit(X_train_mu, y_train_mu)\n",
    "y_pred_mu = rf_cv.predict(X_test_mu)\n",
    "r2_mu.append(r2_score(y_test_mu, y_pred_mu))\n",
    "mse_mu.append(mean_squared_error(y_test_mu, y_pred_mu))\n",
    "print(\"Прочность при растяжении - Случайный лес\")\n",
    "print(f\"Лучший гиперпараметр: {rf_cv.best_params_}\")\n",
    "print(f\"R^2 на тестовом наборе: {r2_score(y_test_pr, y_pred_pr)}\")\n",
    "print(f\"Среднеквадратическая ошибка на тестовом наборе: {mean_squared_error(y_test_pr, y_pred_pr)}\")\n",
    "\n",
    "print(\"Упругость - Случайный лес\")\n",
    "print(f\"Лучший гиперпараметр: {rf_cv.best_params_}\")\n",
    "print(f\"R^2 на тестовом наборе: {r2_score(y_test_mu, y_pred_mu)}\")\n",
    "print(f\"Среднеквадратическая ошибка на тестовом наборе: {mean_squared_error(y_test_mu, y_pred_mu)}\")"
   ]
  },
  {
   "cell_type": "code",
   "execution_count": 24,
   "id": "16ba49e6",
   "metadata": {},
   "outputs": [
    {
     "name": "stdout",
     "output_type": "stream",
     "text": [
      "Requirement already satisfied: tabulate in c:\\users\\asus\\anaconda3\\lib\\site-packages (0.8.10)Результаты прочности при растяжении:\n",
      "\n",
      "╒════╤═══════════════════════════╤═════════════╤═══════════╕\n",
      "│    │ Model                     │         R^2 │       MSE │\n",
      "╞════╪═══════════════════════════╪═════════════╪═══════════╡\n",
      "│  0 │ Linear Regression         │ -0.0325385  │ 0.0329003 │\n",
      "├────┼───────────────────────────┼─────────────┼───────────┤\n",
      "│  1 │ Lasso                     │ -0.0021228  │ 0.0319311 │\n",
      "├────┼───────────────────────────┼─────────────┼───────────┤\n",
      "│  2 │ KNeighborsRegressor       │  0.00936454 │ 0.0315651 │\n",
      "├────┼───────────────────────────┼─────────────┼───────────┤\n",
      "│  3 │ Decision Tree Regression  │ -0.276967   │ 0.0406886 │\n",
      "├────┼───────────────────────────┼─────────────┼───────────┤\n",
      "│  4 │ SGDRegressor              │ -0.050316   │ 0.0334667 │\n",
      "├────┼───────────────────────────┼─────────────┼───────────┤\n",
      "│  5 │ Support Vector Regression │ -0.0320746  │ 0.0328855 │\n",
      "├────┼───────────────────────────┼─────────────┼───────────┤\n",
      "│  6 │ Random Forest Regression  │ -0.0286429  │ 0.0327761 │\n",
      "╘════╧═══════════════════════════╧═════════════╧═══════════╛\n",
      "\n",
      "\n",
      "Результаты для упругости:\n",
      "\n",
      "╒════╤═══════════════════════════╤══════════════╤═══════════╕\n",
      "│    │ Model                     │          R^2 │       MSE │\n",
      "╞════╪═══════════════════════════╪══════════════╪═══════════╡\n",
      "│  0 │ Linear Regression         │ -0.00237389  │ 0.0259076 │\n",
      "├────┼───────────────────────────┼──────────────┼───────────┤\n",
      "│  1 │ Lasso                     │ -0.000552784 │ 0.0258606 │\n",
      "├────┼───────────────────────────┼──────────────┼───────────┤\n",
      "│  2 │ KNeighborsRegressor       │ -0.00932609  │ 0.0260873 │\n",
      "├────┼───────────────────────────┼──────────────┼───────────┤\n",
      "│  3 │ Decision Tree Regression  │ -0.102824    │ 0.0285039 │\n",
      "├────┼───────────────────────────┼──────────────┼───────────┤\n",
      "│  4 │ SGDRegressor              │ -0.0302497   │ 0.0266281 │\n",
      "├────┼───────────────────────────┼──────────────┼───────────┤\n",
      "│  5 │ Support Vector Regression │ -0.00249239  │ 0.0259107 │\n",
      "├────┼───────────────────────────┼──────────────┼───────────┤\n",
      "│  6 │ Random Forest Regression  │  0.000462355 │ 0.0258343 │\n",
      "╘════╧═══════════════════════════╧══════════════╧═══════════╛\n",
      "\n"
     ]
    }
   ],
   "source": [
    "# Создаем словарь с результатами для прочности при растяжении\n",
    "results_pr = {'Model': ['Linear Regression','Lasso', 'KNeighborsRegressor', 'Decision Tree Regression','SGDRegressor', 'Support Vector Regression', 'Random Forest Regression'],\n",
    "              'R^2': r2_pr, 'MSE': mse_pr}\n",
    "\n",
    "# Создаем DataFrame из словаря\n",
    "df_pr = pd.DataFrame(results_pr)\n",
    "\n",
    "# Создаем словарь с результатами для упругости\n",
    "results_mu = {'Model': ['Linear Regression','Lasso', 'KNeighborsRegressor', 'Decision Tree Regression','SGDRegressor', 'Support Vector Regression', 'Random Forest Regression'],\n",
    "              'R^2': r2_mu, 'MSE': mse_mu}\n",
    "\n",
    "# Создаем DataFrame из словаря\n",
    "df_mu = pd.DataFrame(results_mu)\n",
    "\n",
    "# Создаем таблицу для прочности при растяжении\n",
    "table_pr = tabulate(df_pr, headers='keys', tablefmt='fancy_grid')\n",
    "\n",
    "# Создаем таблицу для упругости\n",
    "table_mu = tabulate(df_mu, headers='keys', tablefmt='fancy_grid')\n",
    "\n",
    "# Выводим таблицы\n",
    "print('Результаты прочности при растяжении:\\n')\n",
    "print(table_pr)\n",
    "print('\\n\\nРезультаты для упругости:\\n')\n",
    "print(table_mu)"
   ]
  },
  {
   "cell_type": "code",
   "execution_count": 31,
   "id": "f8afe610",
   "metadata": {},
   "outputs": [
    {
     "data": {
      "image/png": "[encoded data removed]",
      "text/plain": [
       "<Figure size 1000x500 with 2 Axes>"
      ]
     },
     "metadata": {},
     "output_type": "display_data"
    }
   ],
   "source": [
    "# Визуализируем результат\n",
    "fig, axes = plt.subplots(nrows=1, ncols=2, figsize=(10, 5))\n",
    "\n",
    "# График R^2\n",
    "sns.barplot(x='Model', y='R^2', data=df_pr, ax=axes[0])\n",
    "axes[0].set_title('Коэффициент детерминации (R^2)')\n",
    "axes[0].set_xlabel('Модель')\n",
    "axes[0].set_ylabel('R^2')\n",
    "\n",
    "# График MSE\n",
    "sns.barplot(x='Model', y='MSE', data=df_pr, ax=axes[1])\n",
    "axes[1].set_title('Средняя квадратичная ошибка (MSE)')\n",
    "axes[1].set_xlabel('Модель')\n",
    "axes[1].set_ylabel('MSE')\n",
    "\n",
    "for ax in axes:\n",
    "    for tick in ax.get_xticklabels():\n",
    "        tick.set_rotation(90)\n",
    "    ax.set_xticklabels(ax.get_xticklabels(), fontsize=10, ha='center', fontweight='bold')\n",
    "\n",
    "fig.suptitle('Сравнение результатов моделей для прочности при растяжении', fontsize=16, fontweight='bold')\n",
    "plt.show()\n",
    "\n"
   ]
  },
  {
   "cell_type": "markdown",
   "id": "3d9271e7",
   "metadata": {},
   "source": [
    "На основании таблицы и графика результатов \"Результаты прочности при растяжении\" можно сделать следующие выводы:\n",
    "\n",
    "1. Значения коэффициента детерминации (R^2) для всех моделей находятся в диапазоне от -0.28 до 0.01, что говорит о том, что модели не смогли дать хороший прогноз для сжимаемости материалов.\n",
    "2. Значения среднеквадратичной ошибки (MSE) также достаточно высоки, что указывает на невысокое качество прогнозов моделей.\n",
    "3. Самые худшие результаты у Decision Tree Regression, Linear Regression и SGDRegressor. Самый высокий коэффициент детерминации у KNeighborsRegressor, но он все равно находится близко к нулю.\n",
    "4. Необходимо более детально проанализировать данные и выбрать более подходящие признаки для построения моделей."
   ]
  },
  {
   "cell_type": "markdown",
   "id": "eae1cc68",
   "metadata": {},
   "source": [
    "Во второй таблице, оценивавшей связь между параметрами упругости, ситуация аналогичная: ни одна модель не имеет хорошего качества аппроксимации. Модели имеют низкие или отрицательные значения коэффициента детерминации R^2. Лучшей моделью в данном случае является Random Forest Regression с коэффициентом детерминации R^2 равным 0.00046, что также недостаточно для удовлетворительной аппроксимации данных."
   ]
  },
  {
   "cell_type": "markdown",
   "id": "436ea3b6",
   "metadata": {},
   "source": [
    "Таким образом, можно сделать вывод, что ни одна из представленных моделей не способна хорошо описать связь между исследуемыми переменными в обеих таблицах. Возможно, необходимо более тщательно проанализировать данные и выбрать другие методы моделирования для достижения лучших результатов."
   ]
  }
 ],
 "metadata": {
  "kernelspec": {
   "display_name": "Python 3 (ipykernel)",
   "language": "python",
   "name": "python3"
  },
  "language_info": {
   "codemirror_mode": {
    "name": "ipython",
    "version": 3
   },
   "file_extension": ".py",
   "mimetype": "text/x-python",
   "name": "python",
   "nbconvert_exporter": "python",
   "pygments_lexer": "ipython3",
   "version": "3.9.13"
  }
 },
 "nbformat": 4,
 "nbformat_minor": 5
}
