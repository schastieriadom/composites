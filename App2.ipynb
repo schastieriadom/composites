{
 "cells": [
  {
   "cell_type": "code",
   "execution_count": 8,
   "id": "5773c133",
   "metadata": {},
   "outputs": [],
   "source": [
    "from flask import Flask, request, render_template\n",
    "import pandas as pd\n",
    "import tensorflow as tf\n"
   ]
  },
  {
   "cell_type": "code",
   "execution_count": 9,
   "id": "8c221a58",
   "metadata": {},
   "outputs": [],
   "source": [
    "app = Flask(__name__)\n",
    "model = tf.keras.models.load_model('my_model.h5')"
   ]
  },
  {
   "cell_type": "code",
   "execution_count": 10,
   "id": "81af154e",
   "metadata": {},
   "outputs": [],
   "source": [
    "@app.route('/')\n",
    "def index():\n",
    "    return render_template('index.html')\n"
   ]
  },
  {
   "cell_type": "code",
   "execution_count": 11,
   "id": "711a0792",
   "metadata": {},
   "outputs": [
    {
     "name": "stdout",
     "output_type": "stream",
     "text": [
      " * Serving Flask app \"__main__\" (lazy loading)\n",
      " * Environment: production\n",
      "\u001b[31m   WARNING: This is a development server. Do not use it in a production deployment.\u001b[0m\n",
      "\u001b[2m   Use a production WSGI server instead.\u001b[0m\n",
      " * Debug mode: on\n"
     ]
    },
    {
     "name": "stderr",
     "output_type": "stream",
     "text": [
      " * Restarting with watchdog (windowsapi)\n"
     ]
    },
    {
     "ename": "SystemExit",
     "evalue": "1",
     "output_type": "error",
     "traceback": [
      "An exception has occurred, use %tb to see the full traceback.\n",
      "\u001b[1;31mSystemExit\u001b[0m\u001b[1;31m:\u001b[0m 1\n"
     ]
    }
   ],
   "source": [
    "@app.route('/', methods=['POST'])\n",
    "def predict():\n",
    "    плотность = float(request.form['Плотность, кг/м3'])\n",
    "    модуль_упругости = float(request.form['Модуль упругости, ГПа'])\n",
    "    количеств_отвердителя = float(request.form['Количество отвердителя, м.%'])\n",
    "    содержание_эпоксидных_групп = float(request.form['Содержание эпоксидных групп,%_2'])\n",
    "    температура_вспышки = float(request.form['Температура вспышки, С_2'])\n",
    "    поверхностная_плотность = float(request.form['Поверхностная плотность, г/м2'])\n",
    "    модуль_упругости_при_растяжении = float(request.form['Модуль упругости при растяжении, ГПа'])\n",
    "    прочность_при_растяжении = float(request.form['Прочность при растяжении, МПа'])\n",
    "    потребление_смолы = float(request.form['Потребление смолы, г/м2'])\n",
    "    угол_нашивки = float(request.form['Угол нашивки, град'])\n",
    "    шаг_нашивки = float(request.form['Шаг нашивки'])\n",
    "    плотность_нашивки = float(request.form['Плотность нашивки'])\n",
    "    data = {'Плотность, кг/м3': [плотность],\n",
    "            'Модуль упругости, ГПа': [модуль_упругости],\n",
    "            'Количество отвердителя, м.%': [количеств_отвердителя],\n",
    "            'Содержание эпоксидных групп,%_2': [содержание_эпоксидных_групп],\n",
    "            'Температура вспышки, С_2': [температура_вспышки],\n",
    "            'Поверхностная плотность, г/м2': [поверхностная_плотность],\n",
    "            'Модуль упругости при растяжении, ГПа': [модуль_упругости_при_растяжении],\n",
    "            'Прочность при растяжении, МПа': [прочность_при_растяжении],\n",
    "            'Потребление смолы, г/м2': [потребление_смолы],\n",
    "            'Угол нашивки, град': [угол_нашивки],\n",
    "            'Шаг нашивки': [шаг_нашивки],\n",
    "            'Плотность нашивки': [плотность_нашивки]}\n",
    "    df = pd.DataFrame(data)\n",
    "    prediction = model.predict(df)\n",
    "    return render_template('index.html', prediction=prediction[0][0])\n",
    "\n",
    "if __name__ == '__main__':\n",
    "    app.run(debug=True)"
   ]
  }
 ],
 "metadata": {
  "kernelspec": {
   "display_name": "Python 3 (ipykernel)",
   "language": "python",
   "name": "python3"
  },
  "language_info": {
   "codemirror_mode": {
    "name": "ipython",
    "version": 3
   },
   "file_extension": ".py",
   "mimetype": "text/x-python",
   "name": "python",
   "nbconvert_exporter": "python",
   "pygments_lexer": "ipython3",
   "version": "3.9.13"
  }
 },
 "nbformat": 4,
 "nbformat_minor": 5
}
